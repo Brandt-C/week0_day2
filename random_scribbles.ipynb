{
 "cells": [
  {
   "cell_type": "code",
   "execution_count": 8,
   "id": "c5a79b05",
   "metadata": {},
   "outputs": [],
   "source": [
    "x = 5\n",
    "some_list = [2, 34, 5, 67]\n",
    "def print_hi(name):\n",
    "    print(name)"
   ]
  },
  {
   "cell_type": "code",
   "execution_count": 9,
   "id": "7bca3899",
   "metadata": {},
   "outputs": [
    {
     "name": "stdout",
     "output_type": "stream",
     "text": [
      "5\n"
     ]
    }
   ],
   "source": [
    "print(x)\n"
   ]
  },
  {
   "cell_type": "code",
   "execution_count": 11,
   "id": "0d9dbf2a",
   "metadata": {},
   "outputs": [],
   "source": [
    "y= 10"
   ]
  },
  {
   "cell_type": "markdown",
   "id": "7e91d58b",
   "metadata": {},
   "source": [
    "## this is a second-level heading"
   ]
  },
  {
   "cell_type": "code",
   "execution_count": 12,
   "id": "bc45c70f",
   "metadata": {},
   "outputs": [
    {
     "name": "stdout",
     "output_type": "stream",
     "text": [
      "10\n"
     ]
    }
   ],
   "source": [
    "print(y)"
   ]
  },
  {
   "cell_type": "markdown",
   "id": "a3d076ef",
   "metadata": {},
   "source": [
    "# This section is all about math operators in python"
   ]
  },
  {
   "cell_type": "code",
   "execution_count": null,
   "id": "b3b7f277",
   "metadata": {},
   "outputs": [],
   "source": []
  },
  {
   "cell_type": "code",
   "execution_count": null,
   "id": "141807b4",
   "metadata": {},
   "outputs": [],
   "source": []
  }
 ],
 "metadata": {
  "kernelspec": {
   "display_name": "Python 3 (ipykernel)",
   "language": "python",
   "name": "python3"
  },
  "language_info": {
   "codemirror_mode": {
    "name": "ipython",
    "version": 3
   },
   "file_extension": ".py",
   "mimetype": "text/x-python",
   "name": "python",
   "nbconvert_exporter": "python",
   "pygments_lexer": "ipython3",
   "version": "3.9.7"
  }
 },
 "nbformat": 4,
 "nbformat_minor": 5
}
